{
 "cells": [
  {
   "cell_type": "code",
   "execution_count": 1,
   "metadata": {},
   "outputs": [
    {
     "ename": "ImportError",
     "evalue": "\n\nIMPORTANT: PLEASE READ THIS FOR ADVICE ON HOW TO SOLVE THIS ISSUE!\n\nImporting the numpy C-extensions failed. This error can happen for\nmany reasons, often due to issues with your setup or how NumPy was\ninstalled.\n\nWe have compiled some common reasons and troubleshooting tips at:\n\n    https://numpy.org/devdocs/user/troubleshooting-importerror.html\n\nPlease note and check the following:\n\n  * The Python version is: Python3.9 from \"/Users/kevinb/miniforge3/envs/beta_goal/bin/python\"\n  * The NumPy version is: \"1.21.1\"\n\nand make sure that they are the versions you expect.\nPlease carefully study the documentation linked above for further help.\n\nOriginal error was: dlopen(/Users/kevinb/miniforge3/envs/beta_goal/lib/python3.9/site-packages/numpy/core/_multiarray_umath.cpython-39-darwin.so, 0x0002): Library not loaded: @rpath/libcblas.3.dylib\n  Referenced from: <E1F084BE-76EA-37D6-9C7B-AF557EDD4172> /Users/kevinb/miniforge3/envs/beta_goal/lib/python3.9/site-packages/numpy/core/_multiarray_umath.cpython-39-darwin.so\n  Reason: tried: '/Users/kevinb/miniforge3/envs/beta_goal/lib/libcblas.3.dylib' (no such file), '/System/Volumes/Preboot/Cryptexes/OS/Users/kevinb/miniforge3/envs/beta_goal/lib/libcblas.3.dylib' (no such file), '/Users/kevinb/miniforge3/envs/beta_goal/lib/libcblas.3.dylib' (no such file), '/System/Volumes/Preboot/Cryptexes/OS/Users/kevinb/miniforge3/envs/beta_goal/lib/libcblas.3.dylib' (no such file), '/Users/kevinb/miniforge3/envs/beta_goal/lib/python3.9/site-packages/numpy/core/../../../../libcblas.3.dylib' (no such file), '/Users/kevinb/miniforge3/envs/beta_goal/lib/libcblas.3.dylib' (no such file), '/System/Volumes/Preboot/Cryptexes/OS/Users/kevinb/miniforge3/envs/beta_goal/lib/libcblas.3.dylib' (no such file), '/Users/kevinb/miniforge3/envs/beta_goal/lib/libcblas.3.dylib' (no such file), '/System/Volumes/Preboot/Cryptexes/OS/Users/kevinb/miniforge3/envs/beta_goal/lib/libcblas.3.dylib' (no such file), '/Users/kevinb/miniforge3/envs/beta_goal/lib/python3.9/site-packages/numpy/core/../../../../libcblas.3.dylib' (no such file), '/Users/kevinb/miniforge3/envs/beta_goal/lib/libcblas.3.dylib' (no such file), '/System/Volumes/Preboot/Cryptexes/OS/Users/kevinb/miniforge3/envs/beta_goal/lib/libcblas.3.dylib' (no such file), '/Users/kevinb/miniforge3/envs/beta_goal/bin/../lib/libcblas.3.dylib' (no such file), '/Users/kevinb/miniforge3/envs/beta_goal/lib/libcblas.3.dylib' (no such file), '/System/Volumes/Preboot/Cryptexes/OS/Users/kevinb/miniforge3/envs/beta_goal/lib/libcblas.3.dylib' (no such file), '/Users/kevinb/miniforge3/envs/beta_goal/bin/../lib/libcblas.3.dylib' (no such file), '/usr/local/lib/libcblas.3.dylib' (no such file), '/usr/lib/libcblas.3.dylib' (no such file, not in dyld cache)\n",
     "output_type": "error",
     "traceback": [
      "\u001b[0;31m---------------------------------------------------------------------------\u001b[0m",
      "\u001b[0;31mImportError\u001b[0m                               Traceback (most recent call last)",
      "File \u001b[0;32m~/miniforge3/envs/beta_goal/lib/python3.9/site-packages/numpy/core/__init__.py:22\u001b[0m\n\u001b[1;32m     21\u001b[0m \u001b[38;5;28;01mtry\u001b[39;00m:\n\u001b[0;32m---> 22\u001b[0m     \u001b[38;5;28;01mfrom\u001b[39;00m\u001b[38;5;250m \u001b[39m\u001b[38;5;21;01m.\u001b[39;00m\u001b[38;5;250m \u001b[39m\u001b[38;5;28;01mimport\u001b[39;00m multiarray\n\u001b[1;32m     23\u001b[0m \u001b[38;5;28;01mexcept\u001b[39;00m \u001b[38;5;167;01mImportError\u001b[39;00m \u001b[38;5;28;01mas\u001b[39;00m exc:\n",
      "File \u001b[0;32m~/miniforge3/envs/beta_goal/lib/python3.9/site-packages/numpy/core/multiarray.py:12\u001b[0m\n\u001b[1;32m     10\u001b[0m \u001b[38;5;28;01mimport\u001b[39;00m\u001b[38;5;250m \u001b[39m\u001b[38;5;21;01mwarnings\u001b[39;00m\n\u001b[0;32m---> 12\u001b[0m \u001b[38;5;28;01mfrom\u001b[39;00m\u001b[38;5;250m \u001b[39m\u001b[38;5;21;01m.\u001b[39;00m\u001b[38;5;250m \u001b[39m\u001b[38;5;28;01mimport\u001b[39;00m overrides\n\u001b[1;32m     13\u001b[0m \u001b[38;5;28;01mfrom\u001b[39;00m\u001b[38;5;250m \u001b[39m\u001b[38;5;21;01m.\u001b[39;00m\u001b[38;5;250m \u001b[39m\u001b[38;5;28;01mimport\u001b[39;00m _multiarray_umath\n",
      "File \u001b[0;32m~/miniforge3/envs/beta_goal/lib/python3.9/site-packages/numpy/core/overrides.py:7\u001b[0m\n\u001b[1;32m      5\u001b[0m \u001b[38;5;28;01mimport\u001b[39;00m\u001b[38;5;250m \u001b[39m\u001b[38;5;21;01mtextwrap\u001b[39;00m\n\u001b[0;32m----> 7\u001b[0m \u001b[38;5;28;01mfrom\u001b[39;00m\u001b[38;5;250m \u001b[39m\u001b[38;5;21;01mnumpy\u001b[39;00m\u001b[38;5;21;01m.\u001b[39;00m\u001b[38;5;21;01mcore\u001b[39;00m\u001b[38;5;21;01m.\u001b[39;00m\u001b[38;5;21;01m_multiarray_umath\u001b[39;00m\u001b[38;5;250m \u001b[39m\u001b[38;5;28;01mimport\u001b[39;00m (\n\u001b[1;32m      8\u001b[0m     add_docstring, implement_array_function, _get_implementing_args)\n\u001b[1;32m      9\u001b[0m \u001b[38;5;28;01mfrom\u001b[39;00m\u001b[38;5;250m \u001b[39m\u001b[38;5;21;01mnumpy\u001b[39;00m\u001b[38;5;21;01m.\u001b[39;00m\u001b[38;5;21;01mcompat\u001b[39;00m\u001b[38;5;21;01m.\u001b[39;00m\u001b[38;5;21;01m_inspect\u001b[39;00m\u001b[38;5;250m \u001b[39m\u001b[38;5;28;01mimport\u001b[39;00m getargspec\n",
      "\u001b[0;31mImportError\u001b[0m: dlopen(/Users/kevinb/miniforge3/envs/beta_goal/lib/python3.9/site-packages/numpy/core/_multiarray_umath.cpython-39-darwin.so, 0x0002): Library not loaded: @rpath/libcblas.3.dylib\n  Referenced from: <E1F084BE-76EA-37D6-9C7B-AF557EDD4172> /Users/kevinb/miniforge3/envs/beta_goal/lib/python3.9/site-packages/numpy/core/_multiarray_umath.cpython-39-darwin.so\n  Reason: tried: '/Users/kevinb/miniforge3/envs/beta_goal/lib/libcblas.3.dylib' (no such file), '/System/Volumes/Preboot/Cryptexes/OS/Users/kevinb/miniforge3/envs/beta_goal/lib/libcblas.3.dylib' (no such file), '/Users/kevinb/miniforge3/envs/beta_goal/lib/libcblas.3.dylib' (no such file), '/System/Volumes/Preboot/Cryptexes/OS/Users/kevinb/miniforge3/envs/beta_goal/lib/libcblas.3.dylib' (no such file), '/Users/kevinb/miniforge3/envs/beta_goal/lib/python3.9/site-packages/numpy/core/../../../../libcblas.3.dylib' (no such file), '/Users/kevinb/miniforge3/envs/beta_goal/lib/libcblas.3.dylib' (no such file), '/System/Volumes/Preboot/Cryptexes/OS/Users/kevinb/miniforge3/envs/beta_goal/lib/libcblas.3.dylib' (no such file), '/Users/kevinb/miniforge3/envs/beta_goal/lib/libcblas.3.dylib' (no such file), '/System/Volumes/Preboot/Cryptexes/OS/Users/kevinb/miniforge3/envs/beta_goal/lib/libcblas.3.dylib' (no such file), '/Users/kevinb/miniforge3/envs/beta_goal/lib/python3.9/site-packages/numpy/core/../../../../libcblas.3.dylib' (no such file), '/Users/kevinb/miniforge3/envs/beta_goal/lib/libcblas.3.dylib' (no such file), '/System/Volumes/Preboot/Cryptexes/OS/Users/kevinb/miniforge3/envs/beta_goal/lib/libcblas.3.dylib' (no such file), '/Users/kevinb/miniforge3/envs/beta_goal/bin/../lib/libcblas.3.dylib' (no such file), '/Users/kevinb/miniforge3/envs/beta_goal/lib/libcblas.3.dylib' (no such file), '/System/Volumes/Preboot/Cryptexes/OS/Users/kevinb/miniforge3/envs/beta_goal/lib/libcblas.3.dylib' (no such file), '/Users/kevinb/miniforge3/envs/beta_goal/bin/../lib/libcblas.3.dylib' (no such file), '/usr/local/lib/libcblas.3.dylib' (no such file), '/usr/lib/libcblas.3.dylib' (no such file, not in dyld cache)",
      "\nDuring handling of the above exception, another exception occurred:\n",
      "\u001b[0;31mImportError\u001b[0m                               Traceback (most recent call last)",
      "Cell \u001b[0;32mIn[1], line 1\u001b[0m\n\u001b[0;32m----> 1\u001b[0m \u001b[38;5;28;01mimport\u001b[39;00m\u001b[38;5;250m \u001b[39m\u001b[38;5;21;01mnumpy\u001b[39;00m\u001b[38;5;250m \u001b[39m\u001b[38;5;28;01mas\u001b[39;00m\u001b[38;5;250m \u001b[39m\u001b[38;5;21;01mnp\u001b[39;00m\n\u001b[1;32m      3\u001b[0m \u001b[38;5;66;03m# 兼容旧代码，临时添加 np.bool\u001b[39;00m\n\u001b[1;32m      4\u001b[0m \u001b[38;5;28;01mif\u001b[39;00m \u001b[38;5;129;01mnot\u001b[39;00m \u001b[38;5;28mhasattr\u001b[39m(np, \u001b[38;5;124m\"\u001b[39m\u001b[38;5;124mbool\u001b[39m\u001b[38;5;124m\"\u001b[39m):\n",
      "File \u001b[0;32m~/miniforge3/envs/beta_goal/lib/python3.9/site-packages/numpy/__init__.py:150\u001b[0m\n\u001b[1;32m    147\u001b[0m \u001b[38;5;66;03m# Allow distributors to run custom init code\u001b[39;00m\n\u001b[1;32m    148\u001b[0m \u001b[38;5;28;01mfrom\u001b[39;00m\u001b[38;5;250m \u001b[39m\u001b[38;5;21;01m.\u001b[39;00m\u001b[38;5;250m \u001b[39m\u001b[38;5;28;01mimport\u001b[39;00m _distributor_init\n\u001b[0;32m--> 150\u001b[0m \u001b[38;5;28;01mfrom\u001b[39;00m\u001b[38;5;250m \u001b[39m\u001b[38;5;21;01m.\u001b[39;00m\u001b[38;5;250m \u001b[39m\u001b[38;5;28;01mimport\u001b[39;00m core\n\u001b[1;32m    151\u001b[0m \u001b[38;5;28;01mfrom\u001b[39;00m\u001b[38;5;250m \u001b[39m\u001b[38;5;21;01m.\u001b[39;00m\u001b[38;5;21;01mcore\u001b[39;00m\u001b[38;5;250m \u001b[39m\u001b[38;5;28;01mimport\u001b[39;00m \u001b[38;5;241m*\u001b[39m\n\u001b[1;32m    152\u001b[0m \u001b[38;5;28;01mfrom\u001b[39;00m\u001b[38;5;250m \u001b[39m\u001b[38;5;21;01m.\u001b[39;00m\u001b[38;5;250m \u001b[39m\u001b[38;5;28;01mimport\u001b[39;00m compat\n",
      "File \u001b[0;32m~/miniforge3/envs/beta_goal/lib/python3.9/site-packages/numpy/core/__init__.py:48\u001b[0m\n\u001b[1;32m     24\u001b[0m     \u001b[38;5;28;01mimport\u001b[39;00m\u001b[38;5;250m \u001b[39m\u001b[38;5;21;01msys\u001b[39;00m\n\u001b[1;32m     25\u001b[0m     msg \u001b[38;5;241m=\u001b[39m \u001b[38;5;124m\"\"\"\u001b[39m\n\u001b[1;32m     26\u001b[0m \n\u001b[1;32m     27\u001b[0m \u001b[38;5;124mIMPORTANT: PLEASE READ THIS FOR ADVICE ON HOW TO SOLVE THIS ISSUE!\u001b[39m\n\u001b[0;32m   (...)\u001b[0m\n\u001b[1;32m     46\u001b[0m \u001b[38;5;124m\"\"\"\u001b[39m \u001b[38;5;241m%\u001b[39m (sys\u001b[38;5;241m.\u001b[39mversion_info[\u001b[38;5;241m0\u001b[39m], sys\u001b[38;5;241m.\u001b[39mversion_info[\u001b[38;5;241m1\u001b[39m], sys\u001b[38;5;241m.\u001b[39mexecutable,\n\u001b[1;32m     47\u001b[0m         __version__, exc)\n\u001b[0;32m---> 48\u001b[0m     \u001b[38;5;28;01mraise\u001b[39;00m \u001b[38;5;167;01mImportError\u001b[39;00m(msg)\n\u001b[1;32m     49\u001b[0m \u001b[38;5;28;01mfinally\u001b[39;00m:\n\u001b[1;32m     50\u001b[0m     \u001b[38;5;28;01mfor\u001b[39;00m envkey \u001b[38;5;129;01min\u001b[39;00m env_added:\n",
      "\u001b[0;31mImportError\u001b[0m: \n\nIMPORTANT: PLEASE READ THIS FOR ADVICE ON HOW TO SOLVE THIS ISSUE!\n\nImporting the numpy C-extensions failed. This error can happen for\nmany reasons, often due to issues with your setup or how NumPy was\ninstalled.\n\nWe have compiled some common reasons and troubleshooting tips at:\n\n    https://numpy.org/devdocs/user/troubleshooting-importerror.html\n\nPlease note and check the following:\n\n  * The Python version is: Python3.9 from \"/Users/kevinb/miniforge3/envs/beta_goal/bin/python\"\n  * The NumPy version is: \"1.21.1\"\n\nand make sure that they are the versions you expect.\nPlease carefully study the documentation linked above for further help.\n\nOriginal error was: dlopen(/Users/kevinb/miniforge3/envs/beta_goal/lib/python3.9/site-packages/numpy/core/_multiarray_umath.cpython-39-darwin.so, 0x0002): Library not loaded: @rpath/libcblas.3.dylib\n  Referenced from: <E1F084BE-76EA-37D6-9C7B-AF557EDD4172> /Users/kevinb/miniforge3/envs/beta_goal/lib/python3.9/site-packages/numpy/core/_multiarray_umath.cpython-39-darwin.so\n  Reason: tried: '/Users/kevinb/miniforge3/envs/beta_goal/lib/libcblas.3.dylib' (no such file), '/System/Volumes/Preboot/Cryptexes/OS/Users/kevinb/miniforge3/envs/beta_goal/lib/libcblas.3.dylib' (no such file), '/Users/kevinb/miniforge3/envs/beta_goal/lib/libcblas.3.dylib' (no such file), '/System/Volumes/Preboot/Cryptexes/OS/Users/kevinb/miniforge3/envs/beta_goal/lib/libcblas.3.dylib' (no such file), '/Users/kevinb/miniforge3/envs/beta_goal/lib/python3.9/site-packages/numpy/core/../../../../libcblas.3.dylib' (no such file), '/Users/kevinb/miniforge3/envs/beta_goal/lib/libcblas.3.dylib' (no such file), '/System/Volumes/Preboot/Cryptexes/OS/Users/kevinb/miniforge3/envs/beta_goal/lib/libcblas.3.dylib' (no such file), '/Users/kevinb/miniforge3/envs/beta_goal/lib/libcblas.3.dylib' (no such file), '/System/Volumes/Preboot/Cryptexes/OS/Users/kevinb/miniforge3/envs/beta_goal/lib/libcblas.3.dylib' (no such file), '/Users/kevinb/miniforge3/envs/beta_goal/lib/python3.9/site-packages/numpy/core/../../../../libcblas.3.dylib' (no such file), '/Users/kevinb/miniforge3/envs/beta_goal/lib/libcblas.3.dylib' (no such file), '/System/Volumes/Preboot/Cryptexes/OS/Users/kevinb/miniforge3/envs/beta_goal/lib/libcblas.3.dylib' (no such file), '/Users/kevinb/miniforge3/envs/beta_goal/bin/../lib/libcblas.3.dylib' (no such file), '/Users/kevinb/miniforge3/envs/beta_goal/lib/libcblas.3.dylib' (no such file), '/System/Volumes/Preboot/Cryptexes/OS/Users/kevinb/miniforge3/envs/beta_goal/lib/libcblas.3.dylib' (no such file), '/Users/kevinb/miniforge3/envs/beta_goal/bin/../lib/libcblas.3.dylib' (no such file), '/usr/local/lib/libcblas.3.dylib' (no such file), '/usr/lib/libcblas.3.dylib' (no such file, not in dyld cache)\n"
     ]
    }
   ],
   "source": [
    "import numpy as np\n",
    "\n",
    "# 兼容旧代码，临时添加 np.bool\n",
    "if not hasattr(np, \"bool\"):\n",
    "    np.bool = bool  # 让 np.bool 指向 Python 的 bool\n",
    "\n",
    "import soccer_twos\n",
    "\n",
    "env = soccer_twos.make(render=True)\n",
    "print(\"Observation Space: \", env.observation_space.shape)\n",
    "print(\"Action Space: \", env.action_space.shape)\n",
    "\n",
    "team0_reward = 0\n",
    "team1_reward = 0\n",
    "while True:\n",
    "    obs, reward, done, info = env.step(\n",
    "        {\n",
    "            0: env.action_space.sample(),\n",
    "            1: env.action_space.sample(),\n",
    "            2: env.action_space.sample(),\n",
    "            3: env.action_space.sample(),\n",
    "        }\n",
    "    )\n",
    "\n",
    "    team0_reward += reward[0] + reward[1]\n",
    "    team1_reward += reward[2] + reward[3]\n",
    "    if done[\"__all__\"]:\n",
    "        print(\"Total Reward: \", team0_reward, \" x \", team1_reward)\n",
    "        team0_reward = 0\n",
    "        team1_reward = 0\n",
    "        env.reset()"
   ]
  },
  {
   "cell_type": "code",
   "execution_count": null,
   "metadata": {},
   "outputs": [],
   "source": []
  }
 ],
 "metadata": {
  "kernelspec": {
   "display_name": "beta_goal",
   "language": "python",
   "name": "python3"
  },
  "language_info": {
   "codemirror_mode": {
    "name": "ipython",
    "version": 3
   },
   "file_extension": ".py",
   "mimetype": "text/x-python",
   "name": "python",
   "nbconvert_exporter": "python",
   "pygments_lexer": "ipython3",
   "version": "3.9.7"
  }
 },
 "nbformat": 4,
 "nbformat_minor": 2
}
